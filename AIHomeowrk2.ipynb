{
 "cells": [
  {
   "cell_type": "markdown",
   "id": "later-monday",
   "metadata": {},
   "source": []
  },
  {
   "cell_type": "code",
   "execution_count": 2,
   "id": "daily-baking",
   "metadata": {},
   "outputs": [],
   "source": [
    "import pandas as pd"
   ]
  },
  {
   "cell_type": "markdown",
   "id": "angry-resident",
   "metadata": {},
   "source": [
    "# Part 1. Loading the dataset"
   ]
  },
  {
   "cell_type": "code",
   "execution_count": 3,
   "id": "banner-gothic",
   "metadata": {},
   "outputs": [
    {
     "data": {
      "text/html": [
       "<div>\n",
       "<style scoped>\n",
       "    .dataframe tbody tr th:only-of-type {\n",
       "        vertical-align: middle;\n",
       "    }\n",
       "\n",
       "    .dataframe tbody tr th {\n",
       "        vertical-align: top;\n",
       "    }\n",
       "\n",
       "    .dataframe thead th {\n",
       "        text-align: right;\n",
       "    }\n",
       "</style>\n",
       "<table border=\"1\" class=\"dataframe\">\n",
       "  <thead>\n",
       "    <tr style=\"text-align: right;\">\n",
       "      <th></th>\n",
       "      <th>Mols KCL</th>\n",
       "      <th>Size nm^3</th>\n",
       "    </tr>\n",
       "    <tr>\n",
       "      <th>Temperature °C</th>\n",
       "      <th></th>\n",
       "      <th></th>\n",
       "    </tr>\n",
       "  </thead>\n",
       "  <tbody>\n",
       "    <tr>\n",
       "      <th>469</th>\n",
       "      <td>647</td>\n",
       "      <td>6.244743e+05</td>\n",
       "    </tr>\n",
       "    <tr>\n",
       "      <th>403</th>\n",
       "      <td>694</td>\n",
       "      <td>5.779610e+05</td>\n",
       "    </tr>\n",
       "    <tr>\n",
       "      <th>302</th>\n",
       "      <td>975</td>\n",
       "      <td>6.196847e+05</td>\n",
       "    </tr>\n",
       "    <tr>\n",
       "      <th>779</th>\n",
       "      <td>916</td>\n",
       "      <td>1.460449e+06</td>\n",
       "    </tr>\n",
       "    <tr>\n",
       "      <th>901</th>\n",
       "      <td>18</td>\n",
       "      <td>4.325726e+04</td>\n",
       "    </tr>\n",
       "    <tr>\n",
       "      <th>545</th>\n",
       "      <td>637</td>\n",
       "      <td>7.124634e+05</td>\n",
       "    </tr>\n",
       "    <tr>\n",
       "      <th>660</th>\n",
       "      <td>519</td>\n",
       "      <td>7.006960e+05</td>\n",
       "    </tr>\n",
       "    <tr>\n",
       "      <th>143</th>\n",
       "      <td>869</td>\n",
       "      <td>2.718260e+05</td>\n",
       "    </tr>\n",
       "    <tr>\n",
       "      <th>89</th>\n",
       "      <td>461</td>\n",
       "      <td>8.919803e+04</td>\n",
       "    </tr>\n",
       "    <tr>\n",
       "      <th>294</th>\n",
       "      <td>776</td>\n",
       "      <td>4.770210e+05</td>\n",
       "    </tr>\n",
       "    <tr>\n",
       "      <th>991</th>\n",
       "      <td>117</td>\n",
       "      <td>2.441771e+05</td>\n",
       "    </tr>\n",
       "    <tr>\n",
       "      <th>307</th>\n",
       "      <td>781</td>\n",
       "      <td>5.006455e+05</td>\n",
       "    </tr>\n",
       "    <tr>\n",
       "      <th>206</th>\n",
       "      <td>70</td>\n",
       "      <td>3.145200e+04</td>\n",
       "    </tr>\n",
       "    <tr>\n",
       "      <th>437</th>\n",
       "      <td>599</td>\n",
       "      <td>5.390215e+05</td>\n",
       "    </tr>\n",
       "    <tr>\n",
       "      <th>566</th>\n",
       "      <td>75</td>\n",
       "      <td>9.185271e+04</td>\n",
       "    </tr>\n",
       "  </tbody>\n",
       "</table>\n",
       "</div>"
      ],
      "text/plain": [
       "                Mols KCL     Size nm^3\n",
       "Temperature °C                        \n",
       "469                  647  6.244743e+05\n",
       "403                  694  5.779610e+05\n",
       "302                  975  6.196847e+05\n",
       "779                  916  1.460449e+06\n",
       "901                   18  4.325726e+04\n",
       "545                  637  7.124634e+05\n",
       "660                  519  7.006960e+05\n",
       "143                  869  2.718260e+05\n",
       "89                   461  8.919803e+04\n",
       "294                  776  4.770210e+05\n",
       "991                  117  2.441771e+05\n",
       "307                  781  5.006455e+05\n",
       "206                   70  3.145200e+04\n",
       "437                  599  5.390215e+05\n",
       "566                   75  9.185271e+04"
      ]
     },
     "execution_count": 3,
     "metadata": {},
     "output_type": "execute_result"
    }
   ],
   "source": [
    "url = 'https://raw.githubusercontent.com/profmcnich/example_notebook/main/science_data_large.csv'\n",
    "df = pd.read_csv(url,index_col=0)\n",
    "df.head(15)"
   ]
  },
  {
   "cell_type": "code",
   "execution_count": 4,
   "id": "compressed-carpet",
   "metadata": {},
   "outputs": [
    {
     "data": {
      "text/html": [
       "<div>\n",
       "<style scoped>\n",
       "    .dataframe tbody tr th:only-of-type {\n",
       "        vertical-align: middle;\n",
       "    }\n",
       "\n",
       "    .dataframe tbody tr th {\n",
       "        vertical-align: top;\n",
       "    }\n",
       "\n",
       "    .dataframe thead th {\n",
       "        text-align: right;\n",
       "    }\n",
       "</style>\n",
       "<table border=\"1\" class=\"dataframe\">\n",
       "  <thead>\n",
       "    <tr style=\"text-align: right;\">\n",
       "      <th></th>\n",
       "      <th>Mols KCL</th>\n",
       "      <th>Size nm^3</th>\n",
       "    </tr>\n",
       "  </thead>\n",
       "  <tbody>\n",
       "    <tr>\n",
       "      <th>count</th>\n",
       "      <td>1000.000000</td>\n",
       "      <td>1.000000e+03</td>\n",
       "    </tr>\n",
       "    <tr>\n",
       "      <th>mean</th>\n",
       "      <td>471.530000</td>\n",
       "      <td>5.086111e+05</td>\n",
       "    </tr>\n",
       "    <tr>\n",
       "      <th>std</th>\n",
       "      <td>288.482872</td>\n",
       "      <td>4.474838e+05</td>\n",
       "    </tr>\n",
       "    <tr>\n",
       "      <th>min</th>\n",
       "      <td>1.000000</td>\n",
       "      <td>1.611429e+01</td>\n",
       "    </tr>\n",
       "    <tr>\n",
       "      <th>25%</th>\n",
       "      <td>226.750000</td>\n",
       "      <td>1.298267e+05</td>\n",
       "    </tr>\n",
       "    <tr>\n",
       "      <th>50%</th>\n",
       "      <td>459.500000</td>\n",
       "      <td>3.827182e+05</td>\n",
       "    </tr>\n",
       "    <tr>\n",
       "      <th>75%</th>\n",
       "      <td>710.250000</td>\n",
       "      <td>7.603211e+05</td>\n",
       "    </tr>\n",
       "    <tr>\n",
       "      <th>max</th>\n",
       "      <td>1000.000000</td>\n",
       "      <td>1.972127e+06</td>\n",
       "    </tr>\n",
       "  </tbody>\n",
       "</table>\n",
       "</div>"
      ],
      "text/plain": [
       "          Mols KCL     Size nm^3\n",
       "count  1000.000000  1.000000e+03\n",
       "mean    471.530000  5.086111e+05\n",
       "std     288.482872  4.474838e+05\n",
       "min       1.000000  1.611429e+01\n",
       "25%     226.750000  1.298267e+05\n",
       "50%     459.500000  3.827182e+05\n",
       "75%     710.250000  7.603211e+05\n",
       "max    1000.000000  1.972127e+06"
      ]
     },
     "execution_count": 4,
     "metadata": {},
     "output_type": "execute_result"
    }
   ],
   "source": [
    "df.describe()"
   ]
  },
  {
   "cell_type": "markdown",
   "id": "czech-reservoir",
   "metadata": {},
   "source": [
    "# Part 2. Splitting Data"
   ]
  },
  {
   "cell_type": "code",
   "execution_count": 5,
   "id": "blind-illustration",
   "metadata": {},
   "outputs": [
    {
     "data": {
      "text/plain": [
       "Temperature °C\n",
       "469    6.244743e+05\n",
       "403    5.779610e+05\n",
       "302    6.196847e+05\n",
       "779    1.460449e+06\n",
       "901    4.325726e+04\n",
       "           ...     \n",
       "894    1.545661e+06\n",
       "327    6.737041e+05\n",
       "791    3.477543e+05\n",
       "769    8.684794e+05\n",
       "919    8.476413e+05\n",
       "Name: Size nm^3, Length: 1000, dtype: float64"
      ]
     },
     "execution_count": 5,
     "metadata": {},
     "output_type": "execute_result"
    }
   ],
   "source": [
    "import numpy as np\n",
    "from sklearn.model_selection import train_test_split\n",
    "\n",
    "X = df.drop('Size nm^3', axis = 1)\n",
    "y = df.iloc[:,-1]\n",
    "X_train, X_test, y_train, y_test = train_test_split(X,y,train_size=0.9,test_size=0.1,random_state=42)\n",
    "y"
   ]
  },
  {
   "cell_type": "markdown",
   "id": "short-attack",
   "metadata": {},
   "source": [
    "# Part 3. Linear Regression"
   ]
  },
  {
   "cell_type": "code",
   "execution_count": 6,
   "id": "homeless-ocean",
   "metadata": {},
   "outputs": [
    {
     "data": {
      "text/plain": [
       "array([ 588628.99707011,  735909.22088716,  732430.16048204,\n",
       "        971325.6416341 ,  651252.0843624 ,  161864.25404118,\n",
       "        196654.85809245,  537602.77779491,  129393.02359332,\n",
       "        657050.51837095, 1052503.71775374,  422793.78442572,\n",
       "       1006116.24568537,  280152.3078155 ,  372927.25195223,\n",
       "        986401.57005632,  435550.33924451,  553838.39301884,\n",
       "        101560.5403523 ,  815927.61020509,  172301.43525656,\n",
       "        -19046.88702544,  827524.47822218,  434390.65244281,\n",
       "        476139.37730433,   92283.04593863,  922618.79596232,\n",
       "        492374.99252826,  774178.88534356,  167662.68804972,\n",
       "        369448.1915471 ,   65610.24949932,  194335.48448903,\n",
       "        782296.69295553,  307984.79105652,  868113.516282  ,\n",
       "        905223.49393669,  529484.97018295,  505131.54734706,\n",
       "        579351.50265644,  750985.14930938,  474979.69050262,\n",
       "        682563.62800855,   44735.88706856,  200133.91849757,\n",
       "        563115.88743251,  659369.89197436,  201293.60529928,\n",
       "        215209.84691979,  632697.09553506,  607183.98589746,\n",
       "        892466.93911789, 1033948.72892639,  484257.1849163 ,\n",
       "        150267.38602409,  891307.25231618,  633856.78233676,\n",
       "         96921.79314547,  109678.34796427,  419314.72402059,\n",
       "        515568.72856244,  603704.92549233,  313783.22506506,\n",
       "       1028150.29491785, 1023511.54771101,  281311.99461721,\n",
       "        710396.11124956, 1028150.29491785,  985241.88325461,\n",
       "        323060.71947874,  841440.71984269,   83005.55152496,\n",
       "        356691.6367283 ,  959728.77361701,  412356.60321033,\n",
       "       1055982.77815886,  169982.06165314,  107358.97436085,\n",
       "        522526.84937269,  686042.68841367,  -24845.32103398,\n",
       "        238403.58295397,  931896.29037599,  637335.84274189,\n",
       "        -32963.12864595,  430911.59203768,  602545.23869062,\n",
       "        376406.31235735,  246521.39056594,  512089.66815731,\n",
       "        934215.66397941, 1030469.66852126, 1066419.95937425,\n",
       "        904063.80713498,  764901.39092989,  802011.36858458,\n",
       "        958569.0868153 ,  463382.82248553,  908702.55434181,\n",
       "         64450.56269761])"
      ]
     },
     "execution_count": 6,
     "metadata": {},
     "output_type": "execute_result"
    }
   ],
   "source": [
    "from sklearn.linear_model import LinearRegression\n",
    "from sklearn.datasets import make_regression\n",
    "\n",
    "linRegModel = LinearRegression()\n",
    "linRegModel.fit(X_train, y_train)\n",
    "\n",
    "linRegModel.predict(X_test)"
   ]
  },
  {
   "cell_type": "code",
   "execution_count": 7,
   "id": "opened-proceeding",
   "metadata": {},
   "outputs": [
    {
     "name": "stdout",
     "output_type": "stream",
     "text": [
      "[-1508.80088172]\n"
     ]
    }
   ],
   "source": [
    "sampleInput = [[32.123123]]\n",
    "samplePredict = linRegModel.predict(sampleInput)\n",
    "print(samplePredict)"
   ]
  },
  {
   "cell_type": "code",
   "execution_count": 8,
   "id": "second-routine",
   "metadata": {},
   "outputs": [
    {
     "data": {
      "text/plain": [
       "0.43482881518742433"
      ]
     },
     "execution_count": 8,
     "metadata": {},
     "output_type": "execute_result"
    }
   ],
   "source": [
    "linRegModel.score(X_test,y_test)"
   ]
  },
  {
   "cell_type": "markdown",
   "id": "fancy-barrel",
   "metadata": {},
   "source": [
    "This tells me that the accuracy score of this linear regression model is no a very good way to predict the size of the slime given the combination of temperature and the amount of KCL added to the slime. I think it is bad because this is under a 50% chance that the model will predict the size of the slime correctly. For this model is work it will need a lot more data or a different kind of model to help guess the size of the slime."
   ]
  },
  {
   "cell_type": "code",
   "execution_count": 9,
   "id": "living-august",
   "metadata": {},
   "outputs": [
    {
     "name": "stdout",
     "output_type": "stream",
     "text": [
      "[1159.68680171]\n",
      "-38761.56265449233\n"
     ]
    }
   ],
   "source": [
    "print(linRegModel.coef_)\n",
    "print(linRegModel.intercept_)"
   ]
  },
  {
   "cell_type": "markdown",
   "id": "trying-circumstances",
   "metadata": {},
   "source": [
    "$$ h(x) = 1159.68680x - 38761.56265 $$"
   ]
  },
  {
   "cell_type": "markdown",
   "id": "round-ceramic",
   "metadata": {},
   "source": [
    "# Part 4. Cross Validation"
   ]
  },
  {
   "cell_type": "code",
   "execution_count": 10,
   "id": "altered-haiti",
   "metadata": {},
   "outputs": [],
   "source": [
    "from sklearn.model_selection import cross_val_score\n",
    "from sklearn import svm\n",
    "from sklearn import metrics\n",
    "from sklearn.model_selection import ShuffleSplit\n",
    "from sklearn.model_selection import KFold"
   ]
  },
  {
   "cell_type": "code",
   "execution_count": 13,
   "id": "welsh-knowing",
   "metadata": {},
   "outputs": [
    {
     "data": {
      "text/plain": [
       "array([0.51936072, 0.60582887, 0.49438144, 0.54422642, 0.52886197])"
      ]
     },
     "execution_count": 13,
     "metadata": {},
     "output_type": "execute_result"
    }
   ],
   "source": [
    "lin_reg = LinearRegression()\n",
    "cvs = cross_val_score(lin_reg, X, y, scoring = 'r2', cv = 5)\n",
    "cvs"
   ]
  },
  {
   "cell_type": "markdown",
   "id": "central-robinson",
   "metadata": {},
   "source": [
    "When using the cross value score while doing linear regression, this shows that the second chunk of the data folded 5 times gives th best guesses back. When this happens the accuracy is at around 61% which is a lot larger than just cutting the data 90:10 uniformly to train and test. The worst that can be chosen is the third chunk of the dataset folds. This may mean that having more data to test out may help increase scores."
   ]
  },
  {
   "cell_type": "markdown",
   "id": "billion-beach",
   "metadata": {},
   "source": []
  },
  {
   "cell_type": "markdown",
   "id": "covered-kidney",
   "metadata": {},
   "source": [
    "# Part 5. Polynomial Regression"
   ]
  },
  {
   "cell_type": "code",
   "execution_count": 79,
   "id": "decreased-glenn",
   "metadata": {},
   "outputs": [],
   "source": [
    "from sklearn.preprocessing import PolynomialFeatures\n",
    "from sklearn.preprocessing import StandardScaler\n",
    "from sklearn.pipeline import Pipeline"
   ]
  },
  {
   "cell_type": "code",
   "execution_count": 130,
   "id": "divided-paste",
   "metadata": {},
   "outputs": [
    {
     "name": "stdout",
     "output_type": "stream",
     "text": [
      "0.4253405141730977\n"
     ]
    }
   ],
   "source": [
    "linModel = LinearRegression()\n",
    "linModel.fit(X_train,y_train)\n",
    "\n",
    "polyModel = PolynomialFeatures(degree=2)\n",
    "xPolyTrain = polyModel.fit_transform(X_train)\n",
    "xPolyTest = polyModel.fit_transform(X_test)\n",
    "\n",
    "linModel2 = LinearRegression()\n",
    "linModel2.fit(xPolyTrain,y_train)\n",
    "\n",
    "print(linModel2.score(xPolyTest,y_test))\n"
   ]
  },
  {
   "cell_type": "code",
   "execution_count": 131,
   "id": "binding-period",
   "metadata": {},
   "outputs": [
    {
     "name": "stdout",
     "output_type": "stream",
     "text": [
      "[0.00000000e+00 9.69719945e+02 1.96712730e-01]\n"
     ]
    }
   ],
   "source": [
    "print(linModel2.coef_)"
   ]
  },
  {
   "cell_type": "code",
   "execution_count": 132,
   "id": "departmental-sterling",
   "metadata": {},
   "outputs": [
    {
     "name": "stdout",
     "output_type": "stream",
     "text": [
      "-9451.934865508694\n"
     ]
    }
   ],
   "source": [
    "print(linModel2.intercept_)"
   ]
  },
  {
   "cell_type": "markdown",
   "id": "martial-sweden",
   "metadata": {},
   "source": [
    "$$ h(x) = 969.71994x + .19671x^2 - 9451.93486 $$"
   ]
  },
  {
   "cell_type": "markdown",
   "id": "organized-vitamin",
   "metadata": {},
   "source": [
    "The polynomial regression model did worse than the linear regression model. Linear regression models do not seem to perform too well for this dataset. Maybe the data in this dataset is not very good or the size of the slimes are jsut too hard to predict. For the Polynomial Regression the score for it was around a 43%."
   ]
  }
 ],
 "metadata": {
  "kernelspec": {
   "display_name": "Python 3",
   "language": "python",
   "name": "python3"
  },
  "language_info": {
   "codemirror_mode": {
    "name": "ipython",
    "version": 3
   },
   "file_extension": ".py",
   "mimetype": "text/x-python",
   "name": "python",
   "nbconvert_exporter": "python",
   "pygments_lexer": "ipython3",
   "version": "3.8.8"
  }
 },
 "nbformat": 4,
 "nbformat_minor": 5
}
